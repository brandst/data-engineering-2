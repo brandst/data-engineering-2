{
 "cells": [
  {
   "cell_type": "code",
   "execution_count": 1,
   "id": "50659d04-3956-4748-b92b-370784e39d3e",
   "metadata": {},
   "outputs": [],
   "source": [
    "from pyspark.sql import SparkSession\n",
    "from pyspark import SparkConf\n",
    "from pyspark.sql.functions import col, avg, dense_rank\n",
    "from pyspark.sql.window import Window"
   ]
  },
  {
   "cell_type": "code",
   "execution_count": 2,
   "id": "3affd6c2-0e0b-4f77-b948-03796f1ef24d",
   "metadata": {},
   "outputs": [],
   "source": [
    "# Spark Configuration\n",
    "sparkConf = SparkConf()\n",
    "sparkConf.setMaster(\"spark://spark-master:7077\") \n",
    "sparkConf.setAppName(\"IMDB_Analysis\")\n",
    "sparkConf.set(\"spark.driver.memory\", \"2g\")\n",
    "sparkConf.set(\"spark.executor.cores\", \"1\")\n",
    "sparkConf.set(\"spark.driver.cores\", \"1\")\n",
    "\n",
    "# Create Spark Session\n",
    "spark = SparkSession.builder.config(conf=sparkConf).getOrCreate()\n",
    "\n",
    "# Set up Hadoop configuration for Google Cloud Storage\n",
    "conf = spark.sparkContext._jsc.hadoopConfiguration()\n",
    "conf.set(\"fs.gs.impl\", \"com.google.cloud.hadoop.fs.gcs.GoogleHadoopFileSystem\")\n",
    "conf.set(\"fs.AbstractFileSystem.gs.impl\", \"com.google.cloud.hadoop.fs.gcs.GoogleHadoopFS\")\n"
   ]
  },
  {
   "cell_type": "code",
   "execution_count": 3,
   "id": "580455af-4ea3-4632-a306-84b42889bb26",
   "metadata": {},
   "outputs": [],
   "source": [
    "# Define BigQuery dataset and table and bucketname\n",
    "project_id = \"dataengineering-439112\"\n",
    "dataset_table = \"labdataset.imdb_top_1000\"\n",
    "output_table = \"labdataset.imdb_analysis\"\n",
    "bucket_name = \"imdb-output-bucket\""
   ]
  },
  {
   "cell_type": "code",
   "execution_count": null,
   "id": "b5b89bfb-df70-4e52-a4e6-5e023c2d6dff",
   "metadata": {},
   "outputs": [],
   "source": [
    "# Read data from BigQuery table\n",
    "imdb_df = spark.read.format(\"bigquery\") \\\n",
    "    .option(\"project\", project_id) \\\n",
    "    .option(\"table\", dataset_table) \\\n",
    "    .load()\n",
    "\n",
    "# schema\n",
    "imdb_df.printSchema()\n",
    "imdb_df.show(5)\n",
    "\n",
    "# average IMDB rating by genre\n",
    "avg_rating_by_genre = imdb_df.groupBy(\"Genre\") \\\n",
    "    .agg(avg(\"IMDB_Rating\").alias(\"Avg_IMDB_Rating\")) \\\n",
    "    .orderBy(col(\"Avg_IMDB_Rating\").desc())\n",
    "\n",
    "# rank movies by IMDB rating within each genre\n",
    "window_spec = Window.partitionBy(\"Genre\").orderBy(col(\"IMDB_Rating\").desc())\n",
    "ranked_movies = imdb_df.withColumn(\"Rank\", dense_rank().over(window_spec))\n",
    "\n",
    "# extract top-rated movies for each genre\n",
    "top_movies_by_genre = ranked_movies.filter(col(\"Rank\") == 1) \\\n",
    "    .select(\"Genre\", \"Series_Title\", \"IMDB_Rating\", \"Director\", \"Released_Year\")\n",
    "\n",
    "# Results to big query and first temporary bucket to store it\n",
    "spark.conf.set(\"temporaryGcsBucket\", bucket_name)\n",
    "\n",
    "# Write average ratings by genre to BigQuery\n",
    "avg_rating_by_genre.write.format(\"bigquery\") \\\n",
    "    .option(\"table\", f\"{project_id}.{output_table}_avg_rating_by_genre\") \\\n",
    "    .mode(\"overwrite\") \\\n",
    "    .save()\n",
    "\n",
    "# Write top-rated movies by genre to BigQuery\n",
    "top_movies_by_genre.write.format(\"bigquery\") \\\n",
    "    .option(\"table\", f\"{project_id}.{output_table}_top_movies_by_genre\") \\\n",
    "    .mode(\"overwrite\") \\\n",
    "    .save()"
   ]
  },
  {
   "cell_type": "code",
   "execution_count": null,
   "id": "453bddf7-9c20-483e-a151-08698ab15c08",
   "metadata": {},
   "outputs": [],
   "source": [
    "# Stop Spark session\n",
    "spark.stop()"
   ]
  }
 ],
 "metadata": {
  "kernelspec": {
   "display_name": "Python 3 (ipykernel)",
   "language": "python",
   "name": "python3"
  },
  "language_info": {
   "codemirror_mode": {
    "name": "ipython",
    "version": 3
   },
   "file_extension": ".py",
   "mimetype": "text/x-python",
   "name": "python",
   "nbconvert_exporter": "python",
   "pygments_lexer": "ipython3",
   "version": "3.11.6"
  }
 },
 "nbformat": 4,
 "nbformat_minor": 5
}
